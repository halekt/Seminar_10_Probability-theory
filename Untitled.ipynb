{
 "cells": [
  {
   "cell_type": "code",
   "execution_count": 1,
   "id": "759028f2",
   "metadata": {},
   "outputs": [],
   "source": [
    "# Провести дисперсионный анализ для определения того, есть ли различия среднего роста среди взрослых футболистов, хоккеистов и штангистов.\n",
    "# Даны значения роста в трех группах случайно выбранных спортсменов:\n",
    "\n",
    "# Футболисты: 173, 175, 180, 178, 177, 185, 183, 182.\n",
    "\n",
    "# Хоккеисты: 177, 179, 180, 188, 177, 172, 171, 184, 180.\n",
    "\n",
    "# Штангисты: 172, 173, 169, 177, 166, 180, 178, 177, 172, 166, 170."
   ]
  },
  {
   "cell_type": "code",
   "execution_count": 2,
   "id": "48422c3b",
   "metadata": {},
   "outputs": [],
   "source": [
    "import scipy.stats as stats\n",
    "import numpy as np"
   ]
  },
  {
   "cell_type": "code",
   "execution_count": 3,
   "id": "64c90f33",
   "metadata": {},
   "outputs": [],
   "source": [
    "football_players=np.array([173, 175, 180, 178, 177, 185, 183, 182])\n",
    "hockey_players=np.array([177, 179, 180, 188, 177, 172, 171, 184, 180])\n",
    "weightlifters=np.array([172, 173, 169, 177, 166, 180, 178, 177, 172, 166, 170])"
   ]
  },
  {
   "cell_type": "code",
   "execution_count": 4,
   "id": "31e9a4fe",
   "metadata": {},
   "outputs": [],
   "source": [
    "alpha=0.05 "
   ]
  },
  {
   "cell_type": "code",
   "execution_count": 5,
   "id": "a2bb37c1",
   "metadata": {},
   "outputs": [],
   "source": [
    "# Проверим данные на нормальность распределения"
   ]
  },
  {
   "cell_type": "code",
   "execution_count": 6,
   "id": "bbb2f077",
   "metadata": {},
   "outputs": [
    {
     "data": {
      "text/plain": [
       "ShapiroResult(statistic=0.9775082468986511, pvalue=0.9495404362678528)"
      ]
     },
     "execution_count": 6,
     "metadata": {},
     "output_type": "execute_result"
    }
   ],
   "source": [
    "stats.shapiro(football_players)"
   ]
  },
  {
   "cell_type": "code",
   "execution_count": 7,
   "id": "4cfebf70",
   "metadata": {},
   "outputs": [
    {
     "data": {
      "text/plain": [
       "ShapiroResult(statistic=0.9579196572303772, pvalue=0.7763139009475708)"
      ]
     },
     "execution_count": 7,
     "metadata": {},
     "output_type": "execute_result"
    }
   ],
   "source": [
    "stats.shapiro(hockey_players)"
   ]
  },
  {
   "cell_type": "code",
   "execution_count": 8,
   "id": "97096b76",
   "metadata": {},
   "outputs": [
    {
     "data": {
      "text/plain": [
       "ShapiroResult(statistic=0.9386808276176453, pvalue=0.5051165223121643)"
      ]
     },
     "execution_count": 8,
     "metadata": {},
     "output_type": "execute_result"
    }
   ],
   "source": [
    "stats.shapiro(weightlifters)"
   ]
  },
  {
   "cell_type": "code",
   "execution_count": 9,
   "id": "08bc4316",
   "metadata": {},
   "outputs": [],
   "source": [
    "# pvalue  для каждой выборки больше alpha - принимаем, что данные распределены нормально"
   ]
  },
  {
   "cell_type": "code",
   "execution_count": 10,
   "id": "ad2b78d5",
   "metadata": {},
   "outputs": [],
   "source": [
    "# Проверим равенство дисперсий."
   ]
  },
  {
   "cell_type": "code",
   "execution_count": 11,
   "id": "75e88702",
   "metadata": {},
   "outputs": [
    {
     "data": {
      "text/plain": [
       "BartlettResult(statistic=0.4640521043406442, pvalue=0.7929254656083131)"
      ]
     },
     "execution_count": 11,
     "metadata": {},
     "output_type": "execute_result"
    }
   ],
   "source": [
    "stats.bartlett(football_players, hockey_players, weightlifters)"
   ]
  },
  {
   "cell_type": "code",
   "execution_count": 12,
   "id": "7fb6d2a3",
   "metadata": {},
   "outputs": [],
   "source": [
    "# pvalue для каждой выборки больше alpha  - принимаем, что дисперсии равны."
   ]
  },
  {
   "cell_type": "code",
   "execution_count": 13,
   "id": "8f4df354",
   "metadata": {},
   "outputs": [],
   "source": [
    "# Проводим однофакторный дисперсионный анализ."
   ]
  },
  {
   "cell_type": "code",
   "execution_count": 14,
   "id": "095e825d",
   "metadata": {},
   "outputs": [],
   "source": [
    "# Сформулируем гипотезы:\n",
    "# H0 μ1=μ2=μ3  - различия среднего роста среди взрослых футболистов, хоккеистов и штангистов нет\n",
    "# H1 μ1≠μ2≠μ3  - различия среднего роста среди взрослых футболистов, хоккеистов и штангистов есть"
   ]
  },
  {
   "cell_type": "code",
   "execution_count": 15,
   "id": "37a1abe3",
   "metadata": {},
   "outputs": [
    {
     "data": {
      "text/plain": [
       "F_onewayResult(statistic=5.500053450812596, pvalue=0.010482206918698693)"
      ]
     },
     "execution_count": 15,
     "metadata": {},
     "output_type": "execute_result"
    }
   ],
   "source": [
    "stats.f_oneway(football_players, hockey_players, weightlifters)"
   ]
  },
  {
   "cell_type": "code",
   "execution_count": 16,
   "id": "fb29df1d",
   "metadata": {},
   "outputs": [],
   "source": [
    "# Получили значение pvalue=0.01048 на уровне статистической значимости alpha=0.05 значит отвергаем нулевую гипотезу.\n",
    "# Средний рост футболистов, хоккеистов и штангистоа различен."
   ]
  },
  {
   "cell_type": "code",
   "execution_count": null,
   "id": "ffc4940e",
   "metadata": {},
   "outputs": [],
   "source": []
  }
 ],
 "metadata": {
  "kernelspec": {
   "display_name": "Python 3 (ipykernel)",
   "language": "python",
   "name": "python3"
  },
  "language_info": {
   "codemirror_mode": {
    "name": "ipython",
    "version": 3
   },
   "file_extension": ".py",
   "mimetype": "text/x-python",
   "name": "python",
   "nbconvert_exporter": "python",
   "pygments_lexer": "ipython3",
   "version": "3.11.1"
  }
 },
 "nbformat": 4,
 "nbformat_minor": 5
}
